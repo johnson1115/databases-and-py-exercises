{
    "metadata": {
        "kernelspec": {
            "name": "python3",
            "display_name": "Python 3 (ipykernel)",
            "language": "python"
        },
        "language_info": {
            "name": "python",
            "version": "3.8.10",
            "mimetype": "text/x-python",
            "codemirror_mode": {
                "name": "ipython",
                "version": 3
            },
            "pygments_lexer": "ipython3",
            "nbconvert_exporter": "python",
            "file_extension": ".py"
        }
    },
    "nbformat_minor": 2,
    "nbformat": 4,
    "cells": [
        {
            "cell_type": "markdown",
            "source": [
                "# Exercises: Working with Databases in Python\n",
                "\n",
                "For the exercises, we will be practicing the steps outlined in this [article](https://towardsdatascience.com/do-you-know-python-has-a-built-in-database-d553989c87bd). You can skip the portion where the author downloads a separate SQL client to examine the database. "
            ],
            "metadata": {
                "azdata_cell_guid": "d7b89799-a102-479f-87b7-f2759ff1962e"
            }
        },
        {
            "cell_type": "markdown",
            "source": [
                "## Import Libraries\n",
                "\n",
                "We will need `pandas` and `sqlite3`. SQLite is a small, self-contained database engine that comes with Python so you will not have to do any additional installations for this lesson. If you want to connect to a different database engine, such as SQL server, you may need additional libraries such as `sqlalchemy` or `pyodbc` and a tool called a driver which helps to connect a database to an application.\n"
            ],
            "metadata": {
                "azdata_cell_guid": "89a0b6d9-821d-44f5-9795-9519809b9108"
            }
        },
        {
            "cell_type": "code",
            "source": [
                "'C:\\\\Users\\\\Johns\\\\anaconda3\\\\pkgs'"
            ],
            "metadata": {
                "azdata_cell_guid": "5182c843-107d-4aba-8c64-66d31e67add4",
                "language": "python"
            },
            "outputs": [
                {
                    "output_type": "execute_result",
                    "execution_count": 5,
                    "data": {
                        "text/plain": "'C:\\\\Users\\\\Johns\\\\anaconda3\\\\pkgs'"
                    },
                    "metadata": {}
                }
            ],
            "execution_count": 5
        },
        {
            "cell_type": "code",
            "source": [
                "pip install pandas"
            ],
            "metadata": {
                "language": "python",
                "azdata_cell_guid": "d7adf644-3aa3-4ec4-8985-c13075165c96"
            },
            "outputs": [
                {
                    "output_type": "stream",
                    "name": "stdout",
                    "text": "Collecting pandasNote: you may need to restart the kernel to use updated packages.\n"
                },
                {
                    "output_type": "stream",
                    "name": "stderr",
                    "text": "WARNING: You are using pip version 21.1.1; however, version 22.3.1 is available.\nYou should consider upgrading via the 'C:\\Users\\johns\\azuredatastudio-python\\python.exe -m pip install --upgrade pip' command.\n"
                },
                {
                    "output_type": "stream",
                    "name": "stdout",
                    "text": "\n  Downloading pandas-1.5.2-cp38-cp38-win_amd64.whl (11.0 MB)\nRequirement already satisfied: python-dateutil>=2.8.1 in c:\\users\\johns\\appdata\\roaming\\python\\python38\\site-packages (from pandas) (2.8.2)\nCollecting pytz>=2020.1\n  Downloading pytz-2022.7.1-py2.py3-none-any.whl (499 kB)\nCollecting numpy>=1.20.3\n  Downloading numpy-1.24.1-cp38-cp38-win_amd64.whl (14.9 MB)\nRequirement already satisfied: six>=1.5 in c:\\users\\johns\\appdata\\roaming\\python\\python38\\site-packages (from python-dateutil>=2.8.1->pandas) (1.16.0)\nInstalling collected packages: pytz, numpy, pandas\nSuccessfully installed numpy-1.24.1 pandas-1.5.2 pytz-2022.7.1\n"
                }
            ],
            "execution_count": 6
        },
        {
            "cell_type": "code",
            "source": [
                "import sqlite3 as sl \r\n",
                "import pandas as pd "
            ],
            "metadata": {
                "language": "python",
                "azdata_cell_guid": "f2fbf2bf-77db-4b98-99e0-f6b76b01f79d"
            },
            "outputs": [],
            "execution_count": 4
        },
        {
            "cell_type": "markdown",
            "source": [
                "## Create a Database\n",
                "\n",
                "In the article, the author shows how to use `sqlite3` to open a connection to an existing database or create a new one. Use this method to make a new database called `exercises.db`."
            ],
            "metadata": {
                "azdata_cell_guid": "be8436e2-68be-47f8-9fc9-06c235a6a128"
            }
        },
        {
            "cell_type": "code",
            "source": [
                "# Create a new database called exercises.db.\n",
                "con = sl.connect('exercises.db')"
            ],
            "metadata": {
                "azdata_cell_guid": "707abc33-c6ee-416e-9358-c799f1fcbb12",
                "language": "python",
                "tags": []
            },
            "outputs": [],
            "execution_count": 6
        },
        {
            "cell_type": "markdown",
            "source": [
                "## Create a Table\n",
                "\n",
                "Follow the steps in the article to create a table called `favorite_books.db`. This table should include columns for the title, author, and a short description of why it is a favorite."
            ],
            "metadata": {
                "azdata_cell_guid": "dc9df060-ddc9-4573-bd74-3c97323f85a7"
            }
        },
        {
            "cell_type": "code",
            "source": [
                "# Create a new table in your database.\n",
                "with con:\n",
                "    con.execute(\"\"\"\n",
                "        CREATE TABLE favorite_books (\n",
                "            title TEXT NOT NULL PRIMARY KEY,\n",
                "            author TEXT,\n",
                "            description TEXT\n",
                "        );\n",
                "    \"\"\")"
            ],
            "metadata": {
                "azdata_cell_guid": "3cc6b80e-3fa2-4d2e-b2a9-1ea5d68ba01e",
                "language": "python"
            },
            "outputs": [],
            "execution_count": 19
        },
        {
            "cell_type": "markdown",
            "source": [
                "## Insert Records\n",
                "\n",
                "Add 3 entries to your table for your top 3 favorite books."
            ],
            "metadata": {
                "azdata_cell_guid": "e9acec60-1485-45c8-9f12-997f959d44cc"
            }
        },
        {
            "cell_type": "code",
            "source": [
                "# Add your 3 favorite books to your table.\n",
                "sql = 'INSERT INTO favorite_books (title, author, description) values(?, ?, ?)'\n",
                "data = [\n",
                "    ('Harry Potter and the Sorcerers Stone', 'J. K. Rowling', 'Young boy finds out he is a wizard and is used by everyone in the wizarding community.'),\n",
                "    ('The Hunger Games', ' Suzanne Collins', 'Distopian novel following a young girl and young boy that fight to the death for thier districts'),\n",
                "    ('The Giver', ' Lois Lowry,', 'Young boy learns his utopian society is actually distopian')\n",
                "]\n",
                "\n",
                "con.executemany(sql, data)"
            ],
            "metadata": {
                "azdata_cell_guid": "c7b8e386-f3f4-42ad-aa91-a2da2e7904a5",
                "language": "python"
            },
            "outputs": [
                {
                    "data": {
                        "text/plain": "<sqlite3.Cursor at 0x26b8b725500>"
                    },
                    "metadata": {},
                    "execution_count": 20,
                    "output_type": "execute_result"
                }
            ],
            "execution_count": 20
        },
        {
            "cell_type": "markdown",
            "source": [
                "## Query Your Table\n",
                "\n",
                "Write a `SELECT` query to output the 3 records in your table."
            ],
            "metadata": {
                "azdata_cell_guid": "b2e48ba7-b418-4418-bb16-598fb82b964c"
            }
        },
        {
            "cell_type": "code",
            "source": [
                "# Write your SELECT query here.\n",
                "data = con.execute(\"SELECT * FROM favorite_books\")\n",
                "for row in data:\n",
                "    print(row)\n",
                ""
            ],
            "metadata": {
                "azdata_cell_guid": "c341e7e2-d635-4c26-b744-237c762f7f41",
                "language": "python",
                "tags": []
            },
            "outputs": [
                {
                    "name": "stdout",
                    "text": "('Harry Potter and the Sorcerers Stone', 'J. K. Rowling', 'Young boy finds out he is a wizard and is used by everyone in the wizarding community.')\n('The Hunger Games', ' Suzanne Collins', 'Distopian novel following a young girl and young boy that fight to the death for thier districts')\n('The Giver', ' Lois Lowry,', 'Young boy learns his utopian society is actually distopian')\n",
                    "output_type": "stream"
                }
            ],
            "execution_count": 21
        },
        {
            "cell_type": "markdown",
            "source": [
                "## Create a New Table with Pandas\n",
                "\n",
                "Create a new table called `favorite_movies` with your top 3 favorite movies. Each movie should have an id and a title. This time, use Pandas to first make a dataframe and then write the dataframe to SQL. Write a `SELECT` query to confirm that the new table does have your top 3 favorite movies."
            ],
            "metadata": {
                "azdata_cell_guid": "2127737d-71cd-4f0d-a84e-b1db8ad54af7"
            }
        },
        {
            "cell_type": "code",
            "source": [
                "# Use Pandas to make a new table in your database.\n",
                "fav_movies_df = pd.DataFrame({\n",
                "    'id': [1,2,3],\n",
                "    'title': ['The Secret Window', 'Mad God', 'Harry Potter and the Sorcerers Stone']\n",
                "})\n",
                "\n",
                "fav_movies_df.to_sql('favorite_movies', con)\n",
                "\n",
                "\n",
                "data = con.execute(\"SELECT * FROM favorite_movies\")\n",
                "for row in data:\n",
                "    print(row)"
            ],
            "metadata": {
                "azdata_cell_guid": "b4b6dd20-ccc0-42e7-b1e7-79d8596b3f9c",
                "language": "python"
            },
            "outputs": [
                {
                    "name": "stdout",
                    "text": "(0, 1, 'The Secret Window')\n(1, 2, 'Mad God')\n(2, 3, 'Harry Potter and the Sorcerers Stone')\n",
                    "output_type": "stream"
                }
            ],
            "execution_count": 14
        }
    ]
}